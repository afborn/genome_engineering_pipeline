{
 "cells": [
  {
   "cell_type": "markdown",
   "metadata": {},
   "source": [
    "___\n",
    "### Provide input\n",
    "- gRNA_csv = name of the csv-file (csv-file needs two column (\"GRNA NAME\", \"GRNA\")\n",
    "- wild_type_seq_file = name of txt-file that contains the wild-type sanger seq for the gene of interest (can be derived from split_fasta notebook), txt-file name needs to contain word \"wild\" (see example below)\n",
    "- include_protein_data = final output can either include AA-seq data or not (can be set by include_protein_data as False, or True"
   ]
  },
  {
   "cell_type": "code",
   "execution_count": null,
   "metadata": {},
   "outputs": [],
   "source": [
    "#CSV format!\n",
    "gRNA_csv = 'A2M_gRNAs.csv'\n",
    "#Fasta format!\n",
    "wild_type_seq_file = \"A2M_wild_type.txt\"\n",
    "#Set to True if you want to include AA-seq in final output\n",
    "include_protein_data = True"
   ]
  },
  {
   "cell_type": "markdown",
   "metadata": {},
   "source": [
    "___"
   ]
  },
  {
   "cell_type": "code",
   "execution_count": null,
   "metadata": {},
   "outputs": [],
   "source": [
    "import gpe_module as gpe\n",
    "import pandas as pd\n",
    "#pd.set_option('display.max_colwidth', None)"
   ]
  },
  {
   "cell_type": "markdown",
   "metadata": {},
   "source": [
    "#### Edited clones"
   ]
  },
  {
   "cell_type": "code",
   "execution_count": null,
   "metadata": {},
   "outputs": [],
   "source": [
    "edited_clones, non_edited_clones = gpe.edited_ko_clone(gRNA_csv)\n",
    "edited_clones = edited_clones[edited_clones[\"CLONES\"].str.contains('.txt')]\n",
    "edited_clones_seq = gpe.add_seq_results_to_df(edited_clones)\n",
    "\n",
    "if include_protein_data:\n",
    "    df_aa_edited_clones = gpe.translate_df_entry_to_protein(edited_clones)\n",
    "    df_edited_clones_with_protein = edited_clones_seq.merge(df_aa_edited_clones, on=\"CLONES\", sort=\"CLONES\")\n",
    "    df_edited_clones_with_protein[\"AA_SEQ\"] = df_edited_clones_with_protein['AA_SEQ'].str.split('_').str[0]\n",
    "    df_edited_clones_with_protein[\"AA_SEQ_REV_COMPL\"] = df_edited_clones_with_protein['AA_SEQ_REV_COMPL'].str.split('_').str[0]\n",
    "    df_edited_clones_with_protein.drop_duplicates().to_csv(\"edited_clones_aa_seq.csv\")\n",
    "    df_edited_clones_with_protein.drop_duplicates()\n",
    "    df_edited_clones_with_protein = edited_clones_seq\n",
    "else:\n",
    "    df_edited_clones_with_protein = edited_clones_seq"
   ]
  },
  {
   "cell_type": "markdown",
   "metadata": {},
   "source": [
    "#### Non-edited clones"
   ]
  },
  {
   "cell_type": "code",
   "execution_count": null,
   "metadata": {},
   "outputs": [],
   "source": [
    "# non_edited_clones = non_edited_clones[non_edited_clones[\"CLONES\"].str.contains('.txt')]\n",
    "# non_edited_clones_seq = gpe.add_seq_results_to_df(non_edited_clones)\n",
    "# df_aa_non_edited_clones = gpe.translate_df_entry_to_protein(non_edited_clones)\n",
    "# df_non_edited_clones_with_protein = non_edited_clones_seq.merge(df_aa_non_edited_clones, on=\"CLONES\", sort=\"CLONES\")\n",
    "# df_non_edited_clones_with_protein.drop_duplicates().to_csv(\"non_edited_clones_aa_seq.csv\")\n",
    "# df_non_edited_clones_with_protein.drop_duplicates()"
   ]
  },
  {
   "cell_type": "markdown",
   "metadata": {},
   "source": [
    "#### Get wild-type sequence and extract upstream/downstream 150bp"
   ]
  },
  {
   "cell_type": "code",
   "execution_count": null,
   "metadata": {},
   "outputs": [],
   "source": [
    "#extract wild-type sequence around gRNA site\n",
    "df_wt_seq_guideRNA = gpe.extract_nt_from_sangerseq_around_grna(wild_type_seq_file, df_edited_clones_with_protein)"
   ]
  },
  {
   "cell_type": "markdown",
   "metadata": {},
   "source": [
    "#### Manipulate and tidy up df"
   ]
  },
  {
   "cell_type": "code",
   "execution_count": null,
   "metadata": {},
   "outputs": [],
   "source": [
    "#manipulate df and add column\n",
    "column_name_wt = df_wt_seq_guideRNA.columns[-3]\n",
    "column_name_first_20 = df_wt_seq_guideRNA.columns[-2]\n",
    "column_name_last_20 = df_wt_seq_guideRNA.columns[-1]\n",
    "df_edited_clones_with_protein[column_name_wt] = \"\"\n",
    "df_edited_clones_with_protein[column_name_first_20] = \"\"\n",
    "df_edited_clones_with_protein[column_name_last_20] = \"\"\n",
    "#add wild_type sequence to df\n",
    "for entry in range(len(df_wt_seq_guideRNA)):\n",
    "    for row in range(len(df_edited_clones_with_protein)):\n",
    "        if df_edited_clones_with_protein[\"GRNA NAME\"].iloc[row] == df_wt_seq_guideRNA[\"GRNA NAME\"].iloc[entry]:\n",
    "            df_edited_clones_with_protein[column_name_wt].iloc[row] = df_wt_seq_guideRNA[column_name_wt].iloc[entry]\n",
    "            df_edited_clones_with_protein[column_name_first_20].iloc[row] = df_wt_seq_guideRNA[column_name_first_20].iloc[entry]\n",
    "            df_edited_clones_with_protein[column_name_last_20].iloc[row] = df_wt_seq_guideRNA[column_name_last_20].iloc[entry]"
   ]
  },
  {
   "cell_type": "code",
   "execution_count": null,
   "metadata": {},
   "outputs": [],
   "source": [
    "# determine sequence length between clipped wild-type and clone sequence\n",
    "seq_clipped_list = []\n",
    "wt_seq_clipped_list = []\n",
    "len_seq_clipped_list = []\n",
    "len_wt_seq_clipped_list = []\n",
    "diff_wt_clipped_cone_clipped_list = []\n",
    "\n",
    "for row in range(len(df_edited_clones_with_protein)):\n",
    "    clone_seq = df_edited_clones_with_protein['SEQUENCE'].iloc[row]\n",
    "    clone_first_20 = df_edited_clones_with_protein[column_name_first_20].iloc[row]\n",
    "    value_first = clone_seq.find(clone_first_20)\n",
    "    clone_last_20 = df_edited_clones_with_protein[column_name_last_20].iloc[row]\n",
    "    value_last = clone_seq.find(clone_last_20) + 20\n",
    "    seq_clipped = df_edited_clones_with_protein['SEQUENCE'].iloc[row][value_first:value_last]\n",
    "    seq_clipped_list.append(seq_clipped)\n",
    "    len_seq_clipped_list.append(len(seq_clipped))\n",
    "    wt_seq = df_edited_clones_with_protein[column_name_wt].iloc[row]\n",
    "    wt_first_20 = df_edited_clones_with_protein[column_name_first_20].iloc[row]\n",
    "    wt_value_first = wt_seq.find(wt_first_20)\n",
    "    wt_last_20 = df_edited_clones_with_protein[column_name_last_20].iloc[row]\n",
    "    wt_value_last = wt_seq.find(wt_last_20) + 20\n",
    "    wt_seq_clipped = df_edited_clones_with_protein[column_name_wt].iloc[row][wt_value_first:wt_value_last]\n",
    "    wt_seq_clipped_list.append(wt_seq_clipped)\n",
    "    len_wt_seq_clipped_list.append(len(wt_seq_clipped))\n",
    "    difference_wt_clone = len(seq_clipped) - len(wt_seq_clipped)\n",
    "    diff_wt_clipped_cone_clipped_list.append(difference_wt_clone)\n",
    "\n",
    "df_edited_clones_with_protein[\"CLONE_SEQ_CLIPPED\"] = seq_clipped_list\n",
    "df_edited_clones_with_protein[\"LENGTH_CLONE_SEQ_CLIPPED\"] = len_seq_clipped_list\n",
    "df_edited_clones_with_protein[\"WT_SEQ_CLIPPED\"] = wt_seq_clipped_list\n",
    "df_edited_clones_with_protein[\"LENGTH_WT_SEQ_CLIPPED\"] = len_wt_seq_clipped_list\n",
    "df_edited_clones_with_protein[\"DIFF_LENGTH_CLONE_WT\"] = diff_wt_clipped_cone_clipped_list"
   ]
  },
  {
   "cell_type": "code",
   "execution_count": null,
   "metadata": {},
   "outputs": [],
   "source": [
    "df_edited_clones_with_protein[\"INDEL\"] = \"\"\n",
    "for row in range(len(df_edited_clones_with_protein)):\n",
    "    if (df_edited_clones_with_protein[\"DIFF_LENGTH_CLONE_WT\"].iloc[row] < 0) and (df_edited_clones_with_protein[\"DIFF_LENGTH_CLONE_WT\"].iloc[row] % 3 != 0):                      \n",
    "        df_edited_clones_with_protein[\"INDEL\"].iloc[row] = \"Out of frame deletion\"\n",
    "    elif (df_edited_clones_with_protein[\"DIFF_LENGTH_CLONE_WT\"].iloc[row] > 0) and (df_edited_clones_with_protein[\"DIFF_LENGTH_CLONE_WT\"].iloc[row] % 3 != 0):\n",
    "        df_edited_clones_with_protein[\"INDEL\"].iloc[row] = \"Out of frame insertion\"\n",
    "    elif df_edited_clones_with_protein[\"DIFF_LENGTH_CLONE_WT\"].iloc[row] % 3 == 0:\n",
    "        df_edited_clones_with_protein[\"INDEL\"].iloc[row] = \"In frame alteration\""
   ]
  },
  {
   "cell_type": "code",
   "execution_count": null,
   "metadata": {},
   "outputs": [],
   "source": [
    "df_edited_clones_with_protein_final = df_edited_clones_with_protein.drop(columns=[\"FIRST_20NT\", \"LAST_20NT\", \"SEQUENCE\", \"CLONE_SEQ_CLIPPED\", \"WT_SEQ_CLIPPED\" ])"
   ]
  },
  {
   "cell_type": "code",
   "execution_count": null,
   "metadata": {},
   "outputs": [],
   "source": [
    "df_edited_clones_with_protein_final"
   ]
  },
  {
   "cell_type": "code",
   "execution_count": null,
   "metadata": {},
   "outputs": [],
   "source": [
    "df_edited_clones_with_protein_final.to_csv(\"Summary_edited_clones.csv\")"
   ]
  }
 ],
 "metadata": {
  "kernelspec": {
   "display_name": "Python 3",
   "language": "python",
   "name": "python3"
  },
  "language_info": {
   "codemirror_mode": {
    "name": "ipython",
    "version": 3
   },
   "file_extension": ".py",
   "mimetype": "text/x-python",
   "name": "python",
   "nbconvert_exporter": "python",
   "pygments_lexer": "ipython3",
   "version": "3.7.6"
  }
 },
 "nbformat": 4,
 "nbformat_minor": 4
}
