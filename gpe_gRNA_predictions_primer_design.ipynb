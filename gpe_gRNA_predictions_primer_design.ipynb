{
 "cells": [
  {
   "cell_type": "markdown",
   "metadata": {},
   "source": [
    "### Notebook to scrape gRNA predictions and designing primers around gRNA cut-site\n",
    "#### Requires gpe-module"
   ]
  },
  {
   "cell_type": "code",
   "execution_count": null,
   "metadata": {},
   "outputs": [],
   "source": [
    "import gpe_module as gpe\n",
    "import pandas as pd\n",
    "pd.set_option('display.max_rows', 500)"
   ]
  },
  {
   "cell_type": "markdown",
   "metadata": {},
   "source": [
    "### Insert name of csv-file (for example - 'project_test.csv').\n",
    "##### csv-file needs to contain a column containing ENSEMBL GENE ID's, and labeled 'GENE ID'"
   ]
  },
  {
   "cell_type": "code",
   "execution_count": null,
   "metadata": {},
   "outputs": [],
   "source": [
    "gene_id_scanned = 'ZFAT'\n",
    "#name_of_csv_file = 'ENSG00000130234_project_test.csv'"
   ]
  },
  {
   "cell_type": "markdown",
   "metadata": {},
   "source": [
    "#### Execute functions"
   ]
  },
  {
   "cell_type": "code",
   "execution_count": null,
   "metadata": {},
   "outputs": [],
   "source": [
    "#create df with sequences from ids supplied in csv file\n",
    "df_gen_seq_and_id = gpe.extract_gene_seq_from_ens_id(gene_id_scanned + '.csv')\n",
    "df_gen_seq_and_id.to_csv(gene_id_scanned + '_gen_seq_id.csv')"
   ]
  },
  {
   "cell_type": "code",
   "execution_count": null,
   "metadata": {},
   "outputs": [],
   "source": [
    "#create df with gene name from ids supplied in csv file\n",
    "#df_gen_name_and_id, df_no_gen_name_found_for_id = gpe.extract_gene_name_from_id(gene_id_scanned)"
   ]
  },
  {
   "cell_type": "code",
   "execution_count": null,
   "metadata": {},
   "outputs": [],
   "source": [
    "#create Synthego URLs from gene IDs and gene names \n",
    "df_gen_name_and_id = pd.read_csv(gene_id_scanned + \".csv\")\n",
    "df_url_and_id = gpe.construct_synthego_urls_gene_names_ids(df_gen_name_and_id)"
   ]
  },
  {
   "cell_type": "code",
   "execution_count": null,
   "metadata": {},
   "outputs": [],
   "source": [
    "df_url_and_id.to_csv(gene_id_scanned + '_urls.csv')"
   ]
  },
  {
   "cell_type": "code",
   "execution_count": null,
   "metadata": {},
   "outputs": [],
   "source": [
    "#create df with scraped gRNAs\n",
    "df_gRNA_predicted_and_id, no_gRNA_predicted = gpe.predict_gRNA_from_urls(df_url_and_id, path_to_gecko='D:\\geckodriver\\geckodriver.exe')\n",
    "df_gRNA_predicted_and_id.to_csv(gene_id_scanned + '_predicted_gRNA_id.csv')"
   ]
  },
  {
   "cell_type": "code",
   "execution_count": null,
   "metadata": {},
   "outputs": [],
   "source": [
    "df_gRNA_predicted_and_id"
   ]
  },
  {
   "cell_type": "code",
   "execution_count": null,
   "metadata": {},
   "outputs": [],
   "source": [
    "#merge df with predicted gRNAs and gene sequence\n",
    "df_gRNA_predicted_and_gen_seq = pd.merge(df_gRNA_predicted_and_id, df_gen_seq_and_id,  on='GENE ID', how='inner')"
   ]
  },
  {
   "cell_type": "code",
   "execution_count": null,
   "metadata": {},
   "outputs": [],
   "source": [
    "# remove entries in GRNA PREDICTED without gRNA sequence\n",
    "df_gRNA_predicted_and_gen_seq_curated = df_gRNA_predicted_and_gen_seq[df_gRNA_predicted_and_gen_seq['PREDICTED GRNA'].str.contains('SYNTHEGO')==False]\n",
    "df_gRNA_predicted_and_gen_seq_curated = df_gRNA_predicted_and_gen_seq_curated[df_gRNA_predicted_and_gen_seq_curated['PREDICTED GRNA'].str.contains('V1.3')==False]"
   ]
  },
  {
   "cell_type": "code",
   "execution_count": null,
   "metadata": {},
   "outputs": [],
   "source": [
    "df_gRNA_orientation = gpe.gRNA_hybridisation(df_gRNA_predicted_and_gen_seq_curated)"
   ]
  },
  {
   "cell_type": "code",
   "execution_count": null,
   "metadata": {},
   "outputs": [],
   "source": [
    "df_primer_design, df_no_primer_design = gpe.primer3_primer_around_gRNA(df_gRNA_orientation)"
   ]
  },
  {
   "cell_type": "markdown",
   "metadata": {},
   "source": [
    "#### Tidy up final df and save results as csv.file"
   ]
  },
  {
   "cell_type": "code",
   "execution_count": null,
   "metadata": {},
   "outputs": [],
   "source": [
    "df_gRNA_orientation.to_csv(gene_id_scanned + \"_project_gRNAs.csv\")\n",
    "df_no_primer_design.to_csv(gene_id_scanned + \"_project_no_primers_designed.csv\")"
   ]
  },
  {
   "cell_type": "code",
   "execution_count": null,
   "metadata": {},
   "outputs": [],
   "source": [
    "final_gRNA_primer_df = pd.merge(df_gRNA_orientation, df_primer_design, on='GRNA NAME', how='inner')\n",
    "final_gRNA_primer_df = final_gRNA_primer_df.drop(columns=[\"GRNA CODING STRAND\", \"PREDICTED GRNA_T\", \"GENE SEQUENCES\", \"SEQ SLICE\"])\n",
    "final_gRNA_primer_df.to_csv(gene_id_scanned + '_gRNA_primer_final.csv')\n",
    "final_gRNA_primer_df.head(25)"
   ]
  },
  {
   "cell_type": "code",
   "execution_count": null,
   "metadata": {},
   "outputs": [],
   "source": [
    "# convert no_gRNA_predicted list into df\n",
    "if no_gRNA_predicted:\n",
    "    df_no_gRNA_predicted = pd.DataFrame (no_gRNA_predicted, columns = ['GENE NAME'])\n",
    "    df_no_gRNA_predicted.to_csv(gene_id_scanned + '_no_gRNA_predicted_id.csv')"
   ]
  }
 ],
 "metadata": {
  "kernelspec": {
   "display_name": "Python 3",
   "language": "python",
   "name": "python3"
  },
  "language_info": {
   "codemirror_mode": {
    "name": "ipython",
    "version": 3
   },
   "file_extension": ".py",
   "mimetype": "text/x-python",
   "name": "python",
   "nbconvert_exporter": "python",
   "pygments_lexer": "ipython3",
   "version": "3.7.6"
  }
 },
 "nbformat": 4,
 "nbformat_minor": 5
}
