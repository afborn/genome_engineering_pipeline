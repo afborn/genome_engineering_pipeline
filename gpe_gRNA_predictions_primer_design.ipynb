{
 "cells": [
  {
   "cell_type": "markdown",
   "metadata": {},
   "source": [
    "### Notebook to scrape gRNA predictions and designing primers around gRNA cut-site\n",
    "#### Requires gpe-module"
   ]
  },
  {
   "cell_type": "code",
   "execution_count": null,
   "metadata": {},
   "outputs": [],
   "source": [
    "import gpe_module as gpe\n",
    "import pandas as pd"
   ]
  },
  {
   "cell_type": "markdown",
   "metadata": {},
   "source": [
    "### Insert name of csv-file (for example - 'project_test.csv').\n",
    "##### csv-file needs to contain a column containing ENSEMBL GENE ID's, and labeled 'GENE ID'"
   ]
  },
  {
   "cell_type": "code",
   "execution_count": null,
   "metadata": {},
   "outputs": [],
   "source": [
    "name_of_csv_file = 'project_test.csv'"
   ]
  },
  {
   "cell_type": "markdown",
   "metadata": {},
   "source": [
    "#### Execute functions"
   ]
  },
  {
   "cell_type": "code",
   "execution_count": null,
   "metadata": {},
   "outputs": [],
   "source": [
    "#create df with sequences from ids supplied in csv file\n",
    "df_gen_seq_and_id = gpe.extract_gene_seq_from_ens_id(name_of_csv_file)\n",
    "#create df with gene name from ids supplied in csv file\n",
    "df_gen_name_and_id = gpe.extract_gene_name_from_id(name_of_csv_file)\n",
    "#create Synthego URLs from gene IDs and gene names \n",
    "df_url_and_id = gpe.construct_synthego_urls_gene_names_ids(df_gen_name_and_id)\n",
    "#create df with scraped gRNAs\n",
    "df_gRNA_predicted_and_id = gpe.predict_gRNA_from_urls(df_url_and_id, path_to_gecko='D:\\Alex\\geckodriver-v0.31.0-win64\\geckodriver.exe')\n",
    "#merge df with predicted gRNAs and gene sequence\n",
    "df_gRNA_predicted_and_gen_seq = pd.merge(df_gRNA_predicted_and_id, df_gen_seq_and_id,  on='GENE ID', how='inner')\n",
    "#create df with information of location and orientation of gRNA (this can be used for primer design)\n",
    "df_gRNA_orientation = gpe.gRNA_hybridisation(df_gRNA_predicted_and_gen_seq)\n",
    "df_label_gRNA = gpe.add_count_to_gRNA(df_gRNA_orientation)\n",
    "df_primer_design = gpe.primer3_primer_around_gRNA(df_label_gRNA)"
   ]
  },
  {
   "cell_type": "markdown",
   "metadata": {},
   "source": [
    "#### Tidy up final df and save results as csv.file"
   ]
  },
  {
   "cell_type": "code",
   "execution_count": null,
   "metadata": {},
   "outputs": [],
   "source": [
    "final_gRNA_primer_df = pd.merge(df_label_gRNA, df_primer_design, on='GRNA NAME', how='inner')\n",
    "final_gRNA_primer_df = final_gRNA_primer_df.drop(columns=[\"GRNA CODING STRAND\", \"PREDICTED GRNA_T\", \"GENE SEQUENCES\", \"SEQ SLICE\"])\n",
    "final_gRNA_primer_df.to_csv(name_of_csv_file + '_gRNA_primer_final.csv')\n",
    "final_gRNA_primer_df.head(15)"
   ]
  }
 ],
 "metadata": {
  "kernelspec": {
   "display_name": "Python 3",
   "language": "python",
   "name": "python3"
  },
  "language_info": {
   "codemirror_mode": {
    "name": "ipython",
    "version": 3
   },
   "file_extension": ".py",
   "mimetype": "text/x-python",
   "name": "python",
   "nbconvert_exporter": "python",
   "pygments_lexer": "ipython3",
   "version": "3.8.5"
  }
 },
 "nbformat": 4,
 "nbformat_minor": 5
}
