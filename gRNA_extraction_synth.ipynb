{
 "cells": [
  {
   "cell_type": "markdown",
   "metadata": {},
   "source": [
    "### This notebook retrieves guideRNA predictions to create gene knockouts for human gene sequence"
   ]
  },
  {
   "cell_type": "code",
   "execution_count": 9,
   "metadata": {},
   "outputs": [],
   "source": [
    "#import modules\n",
    "from pybiomart import Server\n",
    "import pandas as pd\n",
    "import urllib.request\n",
    "# import nest_asyncio\n",
    "# nest_asyncio.apply()\n",
    "from selenium import webdriver\n",
    "import time\n",
    "pd.set_option('display.max_rows', None)\n",
    "import warnings\n",
    "warnings.filterwarnings('ignore')"
   ]
  },
  {
   "cell_type": "code",
   "execution_count": 10,
   "metadata": {},
   "outputs": [
    {
     "name": "stdout",
     "output_type": "stream",
     "text": [
      "Input Ensembl Gene Id number - for example \"ENSG00000141510\": \n",
      "ENSG00000134323\n"
     ]
    }
   ],
   "source": [
    "#request user input; if none supplied by default it is ENSG00000141510 (TP53)\n",
    "print('Input Ensembl Gene Id number - for example \"ENSG00000141510\": ')\n",
    "gene_ens_id = input()\n",
    "gene_ens_id = gene_ens_id or 'ENSG00000141510'"
   ]
  },
  {
   "cell_type": "code",
   "execution_count": 11,
   "metadata": {},
   "outputs": [],
   "source": [
    "#connect to Biomart Server\n",
    "server = Server(host='http://www.ensembl.org')\n",
    "\n",
    "# use #dataset.list_filters() to see available filters for list_filters method\n",
    "#dataset.list_filters()\n",
    "\n",
    "#generate dataset (homo sapiens)\n",
    "dataset = (server.marts['ENSEMBL_MART_ENSEMBL']\n",
    "                 .datasets['hsapiens_gene_ensembl'])\n"
   ]
  },
  {
   "cell_type": "code",
   "execution_count": 12,
   "metadata": {},
   "outputs": [
    {
     "data": {
      "text/html": [
       "<div>\n",
       "<style scoped>\n",
       "    .dataframe tbody tr th:only-of-type {\n",
       "        vertical-align: middle;\n",
       "    }\n",
       "\n",
       "    .dataframe tbody tr th {\n",
       "        vertical-align: top;\n",
       "    }\n",
       "\n",
       "    .dataframe thead th {\n",
       "        text-align: right;\n",
       "    }\n",
       "</style>\n",
       "<table border=\"1\" class=\"dataframe\">\n",
       "  <thead>\n",
       "    <tr style=\"text-align: right;\">\n",
       "      <th></th>\n",
       "      <th>Gene stable ID</th>\n",
       "      <th>Gene name</th>\n",
       "    </tr>\n",
       "  </thead>\n",
       "  <tbody>\n",
       "    <tr>\n",
       "      <th>0</th>\n",
       "      <td>ENSG00000134323</td>\n",
       "      <td>MYCN</td>\n",
       "    </tr>\n",
       "  </tbody>\n",
       "</table>\n",
       "</div>"
      ],
      "text/plain": [
       "    Gene stable ID Gene name\n",
       "0  ENSG00000134323      MYCN"
      ]
     },
     "execution_count": 12,
     "metadata": {},
     "output_type": "execute_result"
    }
   ],
   "source": [
    "#parse dataset for gene_id\n",
    "data_gene = dataset.query(attributes=['ensembl_gene_id', 'external_gene_name'],\n",
    "              filters={'link_ensembl_gene_id': gene_ens_id})\n",
    "\n",
    "#if gene_id found and unique, construct Synthego url\n",
    "if len(data_gene.index) == 1:\n",
    "    #print(data_gene)\n",
    "    gene_id = data_gene.iat[0,0]\n",
    "    gene_symbol = data_gene.iat[0,1]\n",
    "    url = 'https://design.synthego.com/#/design/results?genome=homo_sapiens_gencode_26_primary&nuclease=cas9&gene_id='+gene_id+'&symbol='+gene_symbol\n",
    "else:\n",
    "    raise SystemExit(\"Stop right there - ambiguous gene name!\")\n",
    "data_gene"
   ]
  },
  {
   "cell_type": "code",
   "execution_count": 13,
   "metadata": {},
   "outputs": [
    {
     "name": "stdout",
     "output_type": "stream",
     "text": [
      "https://design.synthego.com/#/design/results?genome=homo_sapiens_gencode_26_primary&nuclease=cas9&gene_id=ENSG00000134323&symbol=MYCN\n"
     ]
    }
   ],
   "source": [
    "# specify the url\n",
    "urlpage = url\n",
    "print(urlpage)\n",
    "# run firefox webdriver from executable path of your choice\n",
    "driver = webdriver.Firefox(executable_path = 'D:\\Alex\\geckodriver-v0.31.0-win64\\geckodriver.exe')\n",
    "# get web page\n",
    "driver.get(urlpage)\n",
    "#60 seconds wait to have page fully loaded - might need to increase time\n",
    "time.sleep(60)\n",
    "results = driver.find_elements(\"xpath\", \"//*[@class='ng-binding']\")\n",
    "#print('Number of results', len(results))"
   ]
  },
  {
   "cell_type": "code",
   "execution_count": 14,
   "metadata": {},
   "outputs": [],
   "source": [
    "#Store predictions\n",
    "gRNAs_synth = []\n",
    "# loop over results\n",
    "for result in results:\n",
    "    #print(result.text)\n",
    "    gRNAs_synth.append(result.text)"
   ]
  },
  {
   "cell_type": "code",
   "execution_count": 15,
   "metadata": {},
   "outputs": [],
   "source": [
    "#extract minimal information for predicted gRNAs\n",
    "gRNAs_synth_min = gRNAs_synth[3:9]"
   ]
  },
  {
   "cell_type": "code",
   "execution_count": 16,
   "metadata": {},
   "outputs": [
    {
     "data": {
      "text/html": [
       "<div>\n",
       "<style scoped>\n",
       "    .dataframe tbody tr th:only-of-type {\n",
       "        vertical-align: middle;\n",
       "    }\n",
       "\n",
       "    .dataframe tbody tr th {\n",
       "        vertical-align: top;\n",
       "    }\n",
       "\n",
       "    .dataframe thead th {\n",
       "        text-align: right;\n",
       "    }\n",
       "</style>\n",
       "<table border=\"1\" class=\"dataframe\">\n",
       "  <thead>\n",
       "    <tr style=\"text-align: right;\">\n",
       "      <th></th>\n",
       "      <th>gRNA sequence</th>\n",
       "      <th>ENSG ID</th>\n",
       "      <th>Gene Name</th>\n",
       "    </tr>\n",
       "  </thead>\n",
       "  <tbody>\n",
       "    <tr>\n",
       "      <th>MYCN-gRNA1</th>\n",
       "      <td>GACGUGGAGCAGCUCGGCAU</td>\n",
       "      <td>ENSG00000134323</td>\n",
       "      <td>MYCN</td>\n",
       "    </tr>\n",
       "    <tr>\n",
       "      <th>MYCN-gRNA2</th>\n",
       "      <td>AUGGUGGACGUGGAGCAGCU</td>\n",
       "      <td>ENSG00000134323</td>\n",
       "      <td>MYCN</td>\n",
       "    </tr>\n",
       "    <tr>\n",
       "      <th>MYCN-gRNA3</th>\n",
       "      <td>CAUGCCCGGCAUGGUGGACG</td>\n",
       "      <td>ENSG00000134323</td>\n",
       "      <td>MYCN</td>\n",
       "    </tr>\n",
       "    <tr>\n",
       "      <th>MYCN-gRNA4</th>\n",
       "      <td>CUGCUCCACGUCCACCAUGC</td>\n",
       "      <td>ENSG00000134323</td>\n",
       "      <td>MYCN</td>\n",
       "    </tr>\n",
       "  </tbody>\n",
       "</table>\n",
       "</div>"
      ],
      "text/plain": [
       "                   gRNA sequence          ENSG ID Gene Name\n",
       "MYCN-gRNA1  GACGUGGAGCAGCUCGGCAU  ENSG00000134323      MYCN\n",
       "MYCN-gRNA2  AUGGUGGACGUGGAGCAGCU  ENSG00000134323      MYCN\n",
       "MYCN-gRNA3  CAUGCCCGGCAUGGUGGACG  ENSG00000134323      MYCN\n",
       "MYCN-gRNA4  CUGCUCCACGUCCACCAUGC  ENSG00000134323      MYCN"
      ]
     },
     "execution_count": 16,
     "metadata": {},
     "output_type": "execute_result"
    }
   ],
   "source": [
    "#create pandas dataframe for future manipulation\n",
    "gRNAs_synth_min_df = pd.DataFrame(gRNAs_synth_min[2:], index =[gene_symbol+'-gRNA1', gene_symbol+'-gRNA2', gene_symbol+'-gRNA3', gene_symbol+'-gRNA4'],\n",
    "                                             columns =['gRNA sequence'])\n",
    "#add column(s) with ENSG number/gene name to df\n",
    "gRNAs_synth_min_df['ENSG ID'] = gene_id\n",
    "gRNAs_synth_min_df['Gene Name'] = gene_symbol\n",
    "#save df\n",
    "gRNAs_synth_min_df.to_csv('gRNAs_synth_min_df.csv') \n",
    "#sanity check df\n",
    "gRNAs_synth_min_df"
   ]
  }
 ],
 "metadata": {
  "kernelspec": {
   "display_name": "Python 3",
   "language": "python",
   "name": "python3"
  },
  "language_info": {
   "codemirror_mode": {
    "name": "ipython",
    "version": 3
   },
   "file_extension": ".py",
   "mimetype": "text/x-python",
   "name": "python",
   "nbconvert_exporter": "python",
   "pygments_lexer": "ipython3",
   "version": "3.8.5"
  }
 },
 "nbformat": 4,
 "nbformat_minor": 5
}
