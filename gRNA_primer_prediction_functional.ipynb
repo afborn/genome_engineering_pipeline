{
 "cells": [
  {
   "cell_type": "markdown",
   "metadata": {},
   "source": [
    "### Notebook to scrape gRNA predictions and designing primers around gRNA cut-site\n",
    "#### Requires gpe-module"
   ]
  },
  {
   "cell_type": "code",
   "execution_count": 1,
   "metadata": {},
   "outputs": [],
   "source": [
    "import gpe_module as gpe\n",
    "import pandas as pd"
   ]
  },
  {
   "cell_type": "markdown",
   "metadata": {},
   "source": [
    "### Insert name of csv-file (for example - 'project_test.csv').\n",
    "##### csv-file needs to contain a column containing ENSEMBL GENE ID's, and labeled 'GENE ID'"
   ]
  },
  {
   "cell_type": "code",
   "execution_count": 2,
   "metadata": {},
   "outputs": [],
   "source": [
    "name_of_csv_file = 'project_test.csv'"
   ]
  },
  {
   "cell_type": "markdown",
   "metadata": {},
   "source": [
    "#### Execute functions"
   ]
  },
  {
   "cell_type": "code",
   "execution_count": 3,
   "metadata": {},
   "outputs": [
    {
     "name": "stdout",
     "output_type": "stream",
     "text": [
      "Successfully processed csv file\n",
      "Successfully retrieved gene sequences from IDs\n",
      "Successfully processed csv file\n",
      "Successfully identified gene names from IDs\n",
      "Successfully constructed URLs from gene names and gene id's for scraping predicted gRNAs\n",
      "Retrieving gRNAs for 14 gene(s) \n",
      "Working...\n",
      "Remaining gRNA predictions: 13 genes \n",
      "Working...\n",
      "Remaining gRNA predictions: 12 genes \n",
      "Working...\n",
      "Remaining gRNA predictions: 11 genes \n",
      "Working...\n",
      "Remaining gRNA predictions: 10 genes \n",
      "Working...\n",
      "Remaining gRNA predictions: 9 genes \n",
      "Working...\n",
      "Remaining gRNA predictions: 8 genes \n",
      "Working...\n",
      "Remaining gRNA predictions: 7 genes \n",
      "Working...\n",
      "Remaining gRNA predictions: 6 genes \n",
      "Working...\n",
      "Remaining gRNA predictions: 5 genes \n",
      "Working...\n",
      "Remaining gRNA predictions: 4 genes \n",
      "Working...\n",
      "Remaining gRNA predictions: 3 genes \n",
      "Working...\n",
      "Remaining gRNA predictions: 2 genes \n",
      "Working...\n",
      "Retrieving gRNA predictions for last gene \n",
      "...almost there...\n",
      "Predictions succesfully completed!\n",
      "Starting gRNA analyses...\n",
      "Analyses of gRNA completed successfully!\n"
     ]
    },
    {
     "ename": "OSError",
     "evalue": "SEQUENCE_INCLUDED_REGION length < min PRIMER_PRODUCT_SIZE_RANGE",
     "output_type": "error",
     "traceback": [
      "\u001b[1;31m---------------------------------------------------------------------------\u001b[0m",
      "\u001b[1;31mOSError\u001b[0m                                   Traceback (most recent call last)",
      "\u001b[1;32m<ipython-input-3-c605eb02a0bb>\u001b[0m in \u001b[0;36m<module>\u001b[1;34m\u001b[0m\n\u001b[0;32m     12\u001b[0m \u001b[0mdf_gRNA_orientation\u001b[0m \u001b[1;33m=\u001b[0m \u001b[0mgpe\u001b[0m\u001b[1;33m.\u001b[0m\u001b[0mgRNA_hybridisation\u001b[0m\u001b[1;33m(\u001b[0m\u001b[0mdf_gRNA_predicted_and_gen_seq\u001b[0m\u001b[1;33m)\u001b[0m\u001b[1;33m\u001b[0m\u001b[1;33m\u001b[0m\u001b[0m\n\u001b[0;32m     13\u001b[0m \u001b[0mdf_label_gRNA\u001b[0m \u001b[1;33m=\u001b[0m \u001b[0mgpe\u001b[0m\u001b[1;33m.\u001b[0m\u001b[0madd_count_to_gRNA\u001b[0m\u001b[1;33m(\u001b[0m\u001b[0mdf_gRNA_orientation\u001b[0m\u001b[1;33m)\u001b[0m\u001b[1;33m\u001b[0m\u001b[1;33m\u001b[0m\u001b[0m\n\u001b[1;32m---> 14\u001b[1;33m \u001b[0mdf_primer_design\u001b[0m \u001b[1;33m=\u001b[0m \u001b[0mgpe\u001b[0m\u001b[1;33m.\u001b[0m\u001b[0mprimer3_primer_around_gRNA\u001b[0m\u001b[1;33m(\u001b[0m\u001b[0mdf_label_gRNA\u001b[0m\u001b[1;33m)\u001b[0m\u001b[1;33m\u001b[0m\u001b[1;33m\u001b[0m\u001b[0m\n\u001b[0m",
      "\u001b[1;32m~\\Downloads\\gpe_module.py\u001b[0m in \u001b[0;36mprimer3_primer_around_gRNA\u001b[1;34m(df_gRNAs_info, upstream_dist, downstream_dist)\u001b[0m\n\u001b[0;32m    368\u001b[0m             \u001b[1;34m'SEQUENCE_TEMPLATE'\u001b[0m\u001b[1;33m:\u001b[0m \u001b[0mdf_gRNAs_info\u001b[0m\u001b[1;33m[\u001b[0m\u001b[1;34m'SEQ SLICE'\u001b[0m\u001b[1;33m]\u001b[0m\u001b[1;33m.\u001b[0m\u001b[0miloc\u001b[0m\u001b[1;33m[\u001b[0m\u001b[0mentry\u001b[0m\u001b[1;33m]\u001b[0m\u001b[1;33m,\u001b[0m\u001b[1;33m\u001b[0m\u001b[1;33m\u001b[0m\u001b[0m\n\u001b[0;32m    369\u001b[0m         }\n\u001b[1;32m--> 370\u001b[1;33m         primer_designed[df_gRNAs_info['GRNA NAME'].iloc[entry]] = primer3.designPrimers(seq_dict,    \n\u001b[0m\u001b[0;32m    371\u001b[0m             {\n\u001b[0;32m    372\u001b[0m                 \u001b[1;34m'PRIMER_OPT_SIZE'\u001b[0m\u001b[1;33m:\u001b[0m \u001b[1;36m20\u001b[0m\u001b[1;33m,\u001b[0m\u001b[1;33m\u001b[0m\u001b[1;33m\u001b[0m\u001b[0m\n",
      "\u001b[1;32mD:\\Users\\aruta\\anaconda3\\lib\\site-packages\\primer3\\bindings.py\u001b[0m in \u001b[0;36mdesignPrimers\u001b[1;34m(seq_args, global_args, misprime_lib, mishyb_lib, debug)\u001b[0m\n\u001b[0;32m    274\u001b[0m         \u001b[0mprimerdesign\u001b[0m\u001b[1;33m.\u001b[0m\u001b[0msetGlobals\u001b[0m\u001b[1;33m(\u001b[0m\u001b[0mglobal_args\u001b[0m\u001b[1;33m,\u001b[0m \u001b[0mmisprime_lib\u001b[0m\u001b[1;33m,\u001b[0m \u001b[0mmishyb_lib\u001b[0m\u001b[1;33m)\u001b[0m\u001b[1;33m\u001b[0m\u001b[1;33m\u001b[0m\u001b[0m\n\u001b[0;32m    275\u001b[0m     \u001b[0mprimerdesign\u001b[0m\u001b[1;33m.\u001b[0m\u001b[0msetSeqArgs\u001b[0m\u001b[1;33m(\u001b[0m\u001b[0mseq_args\u001b[0m\u001b[1;33m)\u001b[0m\u001b[1;33m\u001b[0m\u001b[1;33m\u001b[0m\u001b[0m\n\u001b[1;32m--> 276\u001b[1;33m     \u001b[1;32mreturn\u001b[0m \u001b[0mprimerdesign\u001b[0m\u001b[1;33m.\u001b[0m\u001b[0mrunDesign\u001b[0m\u001b[1;33m(\u001b[0m\u001b[0mdebug\u001b[0m\u001b[1;33m)\u001b[0m\u001b[1;33m\u001b[0m\u001b[1;33m\u001b[0m\u001b[0m\n\u001b[0m\u001b[0;32m    277\u001b[0m \u001b[1;33m\u001b[0m\u001b[0m\n\u001b[0;32m    278\u001b[0m \u001b[1;33m\u001b[0m\u001b[0m\n",
      "\u001b[1;31mOSError\u001b[0m: SEQUENCE_INCLUDED_REGION length < min PRIMER_PRODUCT_SIZE_RANGE"
     ]
    }
   ],
   "source": [
    "#create df with sequences from ids supplied in csv file\n",
    "df_gen_seq_and_id = gpe.extract_gene_seq_from_ens_id(name_of_csv_file)\n",
    "#create df with gene name from ids supplied in csv file\n",
    "df_gen_name_and_id = gpe.extract_gene_name_from_id(name_of_csv_file)\n",
    "#create Synthego URLs from gene IDs and gene names \n",
    "df_url_and_id = gpe.construct_synthego_urls_gene_names_ids(df_gen_name_and_id)\n",
    "#create df with scraped gRNAs\n",
    "df_gRNA_predicted_and_id = gpe.predict_gRNA_from_urls(df_url_and_id, path_to_gecko='D:\\Alex\\geckodriver-v0.31.0-win64\\geckodriver.exe')\n",
    "#merge df with predicted gRNAs and gene sequence\n",
    "df_gRNA_predicted_and_gen_seq = pd.merge(df_gRNA_predicted_and_id, df_gen_seq_and_id,  on='GENE ID', how='inner')\n",
    "#create df with information of location and orientation of gRNA (this can be used for primer design)\n",
    "df_gRNA_orientation = gpe.gRNA_hybridisation(df_gRNA_predicted_and_gen_seq)\n",
    "df_label_gRNA = gpe.add_count_to_gRNA(df_gRNA_orientation)\n",
    "df_primer_design = gpe.primer3_primer_around_gRNA(df_label_gRNA)"
   ]
  },
  {
   "cell_type": "markdown",
   "metadata": {},
   "source": [
    "#### Tidy up final df and save results as csv.file"
   ]
  },
  {
   "cell_type": "code",
   "execution_count": null,
   "metadata": {},
   "outputs": [],
   "source": [
    "final_gRNA_primer_df = pd.merge(df_label_gRNA, df_primer_design, on='GRNA NAME', how='inner')\n",
    "final_gRNA_primer_df = final_gRNA_primer_df.drop(columns=[\"GRNA CODING STRAND\", \"PREDICTED GRNA_T\", \"GENE SEQUENCES\", \"SEQ SLICE\"])\n",
    "final_gRNA_primer_df.to_csv(name_of_csv_file + '_gRNA_primer_final.csv')\n",
    "final_gRNA_primer_df.head(15)"
   ]
  }
 ],
 "metadata": {
  "kernelspec": {
   "display_name": "Python 3",
   "language": "python",
   "name": "python3"
  },
  "language_info": {
   "codemirror_mode": {
    "name": "ipython",
    "version": 3
   },
   "file_extension": ".py",
   "mimetype": "text/x-python",
   "name": "python",
   "nbconvert_exporter": "python",
   "pygments_lexer": "ipython3",
   "version": "3.8.5"
  }
 },
 "nbformat": 4,
 "nbformat_minor": 5
}
