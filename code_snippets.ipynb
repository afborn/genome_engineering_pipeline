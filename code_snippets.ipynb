{
 "cells": [
  {
   "cell_type": "markdown",
   "metadata": {},
   "source": [
    "#### diverse code snippets"
   ]
  },
  {
   "cell_type": "code",
   "execution_count": null,
   "metadata": {},
   "outputs": [],
   "source": [
    "import gpe_module as gpe\n",
    "import os\n",
    "import glob\n",
    "import pandas as pd\n",
    "pd.set_option('display.max_rows', 500)"
   ]
  },
  {
   "cell_type": "code",
   "execution_count": null,
   "metadata": {},
   "outputs": [],
   "source": [
    "df = pd.read_csv(\"third_round_gRNA_no_gRNA_predicted_id.csv\")"
   ]
  },
  {
   "cell_type": "code",
   "execution_count": null,
   "metadata": {},
   "outputs": [],
   "source": [
    "df_full = pd.read_csv(\"protein_coding_gene_ids_ensembl_curated.csv\")"
   ]
  },
  {
   "cell_type": "code",
   "execution_count": null,
   "metadata": {},
   "outputs": [],
   "source": [
    "df_full = df_full.loc[:, ~df_full.columns.str.match(\"Unnamed\")]"
   ]
  },
  {
   "cell_type": "code",
   "execution_count": null,
   "metadata": {},
   "outputs": [],
   "source": [
    "third_round = df.merge(df_full, on=\"GENE NAME\", how=\"inner\")"
   ]
  },
  {
   "cell_type": "code",
   "execution_count": null,
   "metadata": {},
   "outputs": [],
   "source": [
    "third_round = third_round.loc[:, ~third_round.columns.str.match(\"Unnamed\")]"
   ]
  },
  {
   "cell_type": "code",
   "execution_count": null,
   "metadata": {},
   "outputs": [],
   "source": [
    "third_round"
   ]
  },
  {
   "cell_type": "code",
   "execution_count": null,
   "metadata": {},
   "outputs": [],
   "source": [
    "third_round.to_csv(\"forth_round_gRNA.csv\")"
   ]
  },
  {
   "cell_type": "code",
   "execution_count": null,
   "metadata": {},
   "outputs": [],
   "source": []
  },
  {
   "cell_type": "code",
   "execution_count": null,
   "metadata": {},
   "outputs": [],
   "source": [
    "df = pd.read_csv(\"Summary_results/genes_with_four_gRNAs_predicted.csv\")"
   ]
  },
  {
   "cell_type": "code",
   "execution_count": null,
   "metadata": {},
   "outputs": [],
   "source": [
    "df = df.loc[:,~df.columns.str.match(\"Unnamed\")]\n",
    "df.head()"
   ]
  },
  {
   "cell_type": "code",
   "execution_count": null,
   "metadata": {},
   "outputs": [],
   "source": [
    "df_primer = pd.read_csv(\"all_genes_four_gRNAs_primer_200_primer_designed.csv\")"
   ]
  },
  {
   "cell_type": "code",
   "execution_count": null,
   "metadata": {},
   "outputs": [],
   "source": [
    "df_primer = df_primer.loc[:,~df_primer.columns.str.match(\"Unnamed\")]\n",
    "df_primer"
   ]
  },
  {
   "cell_type": "code",
   "execution_count": null,
   "metadata": {},
   "outputs": [],
   "source": [
    "df_merged = df.merge(df_primer, on=\"GRNA NAME\", how=\"inner\")"
   ]
  },
  {
   "cell_type": "code",
   "execution_count": null,
   "metadata": {},
   "outputs": [],
   "source": [
    "df_merged = df_merged.loc[:,~df_merged.columns.str.match(\"GRNA CODING STRAND\")]"
   ]
  },
  {
   "cell_type": "code",
   "execution_count": null,
   "metadata": {},
   "outputs": [],
   "source": [
    "df_merged = df_merged.loc[:, ~df_merged.columns.str.match(\"PREDICTED GRNA_T\")]"
   ]
  },
  {
   "cell_type": "code",
   "execution_count": null,
   "metadata": {},
   "outputs": [],
   "source": [
    "df_merged = df_merged.loc[:, ~df_merged.columns.str.match(\"GENE SEQUENCES\")]"
   ]
  },
  {
   "cell_type": "code",
   "execution_count": null,
   "metadata": {},
   "outputs": [],
   "source": [
    "df_merged = df_merged.loc[:, ~df_merged.columns.str.match(\"SEQ SLICE\")]"
   ]
  },
  {
   "cell_type": "code",
   "execution_count": null,
   "metadata": {},
   "outputs": [],
   "source": [
    "df_merged"
   ]
  },
  {
   "cell_type": "code",
   "execution_count": null,
   "metadata": {},
   "outputs": [],
   "source": [
    "df_merged.to_csv(\"_PCR_200_gRNA_primer_final.csv\")"
   ]
  },
  {
   "cell_type": "code",
   "execution_count": null,
   "metadata": {},
   "outputs": [],
   "source": []
  },
  {
   "cell_type": "code",
   "execution_count": null,
   "metadata": {},
   "outputs": [],
   "source": [
    "guides_non_flat = [['ACUGCUUUAAAAAUUUUAGC', 'UACAUACAUCGUACUUUCCA'], 'ACAGCUGCUCACCUGGCACC', ['GGAAUCGGAGAAGGCCGCAA', 'CAGCGGCUCUUGCUCCGUUG', 'CGCAACGGAGCAAGAGCCGC', 'ACGGAGCAAGAGCCGCUGGA'], 'UGGACUCUUUUGGUUGUAGU', ['UUGAGGGGGAGAGCUCCGCC', 'ACUUGAGUUCUCAGUUGAGG', 'GACUUGAGUUCUCAGUUGAG', 'UGACUUGAGUUCUCAGUUGA'], ['CUCCAGGUCCAGCUCGCCAA', 'CCCGGCACAGCAGCCGCCCG', 'AGUAGCGCUCGUGCCGCACC'], 'AUGACUGAGCAAGUAGUUCA', 'GCGUGGGGAUCGUGUGGCAG', ['UGGGCGAAGUUGAAGUACUC', 'UGUGUGGAGUCGGCUGGAAG']]"
   ]
  },
  {
   "cell_type": "code",
   "execution_count": null,
   "metadata": {},
   "outputs": [],
   "source": [
    "len(guides_non_flat)"
   ]
  },
  {
   "cell_type": "code",
   "execution_count": null,
   "metadata": {},
   "outputs": [],
   "source": [
    "gene_names = ['ABCE1', 'ABCE1', 'ABHD17A', 'ABT1', 'ABT1', 'ABT1', 'ABT1', 'ACER2', 'ACKR1', 'ACKR1', 'ACKR1', 'ACKR1', 'ACOT1', 'ACOT1', 'ACOT1', 'ACOT2', 'ACSM2A', 'ACSM5', 'ACSM5']"
   ]
  },
  {
   "cell_type": "code",
   "execution_count": null,
   "metadata": {},
   "outputs": [],
   "source": [
    "len(gene_names)"
   ]
  },
  {
   "cell_type": "code",
   "execution_count": null,
   "metadata": {},
   "outputs": [],
   "source": [
    "guides_flat = [item for sublist in guides_non_flat for item in sublist]"
   ]
  },
  {
   "cell_type": "code",
   "execution_count": null,
   "metadata": {},
   "outputs": [],
   "source": [
    "guides_flat"
   ]
  },
  {
   "cell_type": "code",
   "execution_count": null,
   "metadata": {},
   "outputs": [],
   "source": [
    "gRNAs_synth_array_final = []\n",
    "for i in range(len(guides_non_flat)):\n",
    "    if len(guides_non_flat[i]) > 15:\n",
    "        gRNAs_synth_array_final.append(guides_non_flat[i])\n",
    "#     print(len(guides_non_flat[i]))\n",
    "#     print(type(guides_non_flat[i]))\n",
    "#     print(guides_non_flat[i])\n",
    "    else:\n",
    "        for item in guides_non_flat[i]:\n",
    "            gRNAs_synth_array_final.append(item)"
   ]
  },
  {
   "cell_type": "code",
   "execution_count": null,
   "metadata": {},
   "outputs": [],
   "source": [
    "gRNAs_synth_array_final"
   ]
  },
  {
   "cell_type": "code",
   "execution_count": null,
   "metadata": {},
   "outputs": [],
   "source": []
  },
  {
   "cell_type": "code",
   "execution_count": null,
   "metadata": {},
   "outputs": [],
   "source": []
  },
  {
   "cell_type": "code",
   "execution_count": null,
   "metadata": {},
   "outputs": [],
   "source": []
  },
  {
   "cell_type": "code",
   "execution_count": null,
   "metadata": {},
   "outputs": [],
   "source": [
    "import itertools"
   ]
  },
  {
   "cell_type": "code",
   "execution_count": null,
   "metadata": {},
   "outputs": [],
   "source": [
    "merged = list(itertools.chain.from_iterable(guides_non_flat))"
   ]
  },
  {
   "cell_type": "code",
   "execution_count": null,
   "metadata": {},
   "outputs": [],
   "source": [
    "merged"
   ]
  },
  {
   "cell_type": "code",
   "execution_count": null,
   "metadata": {},
   "outputs": [],
   "source": []
  },
  {
   "cell_type": "code",
   "execution_count": null,
   "metadata": {},
   "outputs": [],
   "source": [
    "df_primer_design, df_no_primer_design = gpe.primer3_primer_around_gRNA(df, upstream_dist=200, downstream_dist=200)"
   ]
  },
  {
   "cell_type": "code",
   "execution_count": null,
   "metadata": {},
   "outputs": [],
   "source": [
    "df_primer_design.to_csv(\"all_genes_four_gRNAs_primer_200_primer_designed.csv\")"
   ]
  },
  {
   "cell_type": "code",
   "execution_count": null,
   "metadata": {},
   "outputs": [],
   "source": [
    "df_no_primer_design.to_csv(\"all_genes_four_gRNAs_primer_200_no_primer_designed.csv\")"
   ]
  },
  {
   "cell_type": "code",
   "execution_count": null,
   "metadata": {},
   "outputs": [],
   "source": []
  },
  {
   "cell_type": "code",
   "execution_count": null,
   "metadata": {},
   "outputs": [],
   "source": [
    "name = '_gRNA_primer_final'\n",
    "extension = 'csv'\n",
    "all_filenames = [i for i in glob.glob(f\"*{name}.{extension}\")]"
   ]
  },
  {
   "cell_type": "code",
   "execution_count": null,
   "metadata": {},
   "outputs": [],
   "source": [
    "all_filenames"
   ]
  },
  {
   "cell_type": "code",
   "execution_count": null,
   "metadata": {},
   "outputs": [],
   "source": [
    "#combine all files in the list\n",
    "df = pd.concat([pd.read_csv(f) for f in all_filenames ])\n",
    "#export to csv\n",
    "#combined_csv.to_csv( \"combined_csv.csv\", index=False, encoding='utf-8-sig')"
   ]
  },
  {
   "cell_type": "code",
   "execution_count": null,
   "metadata": {},
   "outputs": [],
   "source": [
    "df = df.loc[:,~df.columns.str.match(\"Unnamed\")]"
   ]
  },
  {
   "cell_type": "code",
   "execution_count": null,
   "metadata": {},
   "outputs": [],
   "source": [
    "len(df[\"GENE ID\"].unique())"
   ]
  },
  {
   "cell_type": "code",
   "execution_count": null,
   "metadata": {},
   "outputs": [],
   "source": [
    "#extract rows with at least one NaN entry\n",
    "df_nan = df[df.isnull().any(axis=1)]"
   ]
  },
  {
   "cell_type": "code",
   "execution_count": null,
   "metadata": {},
   "outputs": [],
   "source": [
    "df_nan.to_csv(\"gRNA_primer_missing.csv\")"
   ]
  },
  {
   "cell_type": "code",
   "execution_count": null,
   "metadata": {},
   "outputs": [],
   "source": [
    "df_nan_w_seq = gpe.extract_gene_seq_from_ens_id(\"gRNA_primer_missing.csv\")"
   ]
  },
  {
   "cell_type": "code",
   "execution_count": null,
   "metadata": {},
   "outputs": [],
   "source": [
    "df_full = df_nan.merge(df_nan_w_seq, on=\"GENE ID\", how=\"inner\")"
   ]
  },
  {
   "cell_type": "code",
   "execution_count": null,
   "metadata": {},
   "outputs": [],
   "source": [
    "df_full = df_full[[\"GENE ID\", \"GENE NAME\", \"PREDICTED GRNA\", \"GENE SEQUENCES\"]]"
   ]
  },
  {
   "cell_type": "code",
   "execution_count": null,
   "metadata": {},
   "outputs": [],
   "source": [
    "df_full_loc = gpe.gRNA_hybridisation(df_full)"
   ]
  },
  {
   "cell_type": "code",
   "execution_count": null,
   "metadata": {},
   "outputs": [],
   "source": [
    "df_full_loc"
   ]
  },
  {
   "cell_type": "code",
   "execution_count": null,
   "metadata": {},
   "outputs": [],
   "source": [
    "def primer3_primer_around_gRNA(df_gRNAs_info, upstream_dist=250, downstream_dist=250):\n",
    "\n",
    "    #list to hold sequences\n",
    "    sequences_for_primer_design = []\n",
    "    \n",
    "    df_gRNAs_info[\"GRNA NAME\"] = df_gRNAs_info[\"GENE NAME\"] + '_loc_' + df_gRNAs_info[\"GRNA LOCATION\"].astype(str)\n",
    "\n",
    "    for row in range(len(df_gRNAs_info)):\n",
    "        beginning = df_gRNAs_info[\"GRNA LOCATION\"].iloc[row] - upstream_dist\n",
    "        end = df_gRNAs_info[\"GRNA LOCATION\"].iloc[row] + downstream_dist\n",
    "        key = df_gRNAs_info[\"GRNA NAME\"].iloc[row]\n",
    "        value = df_gRNAs_info[\"GENE SEQUENCES\"].iloc[row]\n",
    "        value = str(value)\n",
    "        seq_slice = value[beginning:end]\n",
    "        sequences_for_primer_design.append(seq_slice)\n",
    "\n",
    "    df_gRNAs_info['SEQ SLICE'] = sequences_for_primer_design\n",
    "    \n",
    "    primer_designed = {}\n",
    "    primer_not_designed = {}\n",
    "    \n",
    "    for entry in range(len(df_gRNAs_info)):\n",
    "        \n",
    "        if len(df_gRNAs_info['SEQ SLICE'].iloc[entry]) == (upstream_dist+downstream_dist):\n",
    "                \n",
    "            seq_dict = {\n",
    "            'SEQUENCE_ID': df_gRNAs_info['PREDICTED GRNA'].iloc[entry],\n",
    "            'SEQUENCE_TEMPLATE': df_gRNAs_info['SEQ SLICE'].iloc[entry],\n",
    "            }\n",
    "            primer_designed[df_gRNAs_info['GRNA NAME'].iloc[entry]] = primer3.designPrimers(seq_dict,    \n",
    "            {\n",
    "                'PRIMER_OPT_SIZE': 20,\n",
    "                'PRIMER_PICK_INTERNAL_OLIGO': 1,\n",
    "                'PRIMER_INTERNAL_MAX_SELF_END': 8,\n",
    "                'PRIMER_MIN_SIZE': 18,\n",
    "                'PRIMER_MAX_SIZE': 25,\n",
    "                'PRIMER_OPT_TM': 60.0,\n",
    "                'PRIMER_MIN_TM': 57.0,\n",
    "                'PRIMER_MAX_TM': 63.0,\n",
    "                'PRIMER_MIN_GC': 20.0,\n",
    "                'PRIMER_MAX_GC': 80.0,\n",
    "                'PRIMER_MAX_POLY_X': 100,\n",
    "                'PRIMER_INTERNAL_MAX_POLY_X': 100,\n",
    "                'PRIMER_SALT_MONOVALENT': 50.0,\n",
    "                'PRIMER_DNA_CONC': 50.0,\n",
    "                'PRIMER_MAX_NS_ACCEPTED': 0,\n",
    "                'PRIMER_MAX_SELF_ANY': 12,\n",
    "                'PRIMER_MAX_SELF_END': 8,\n",
    "                'PRIMER_PAIR_MAX_COMPL_ANY': 12,\n",
    "                'PRIMER_PAIR_MAX_COMPL_END': 8,\n",
    "                'PRIMER_PRODUCT_SIZE_RANGE': [[(upstream_dist+downstream_dist)-((upstream_dist+downstream_dist)/4), (upstream_dist+downstream_dist)]],\n",
    "            })\n",
    "            \n",
    "        else:\n",
    "            primer_not_designed[df_gRNAs_info['GRNA NAME'].iloc[entry]] = \"Couldn't design primers,\" \\\n",
    "            \"input gene sequence too short\"\n",
    "        \n",
    "    primer_df = pd.DataFrame.from_dict(primer_designed, orient='index')\n",
    "    primer_df[\"GRNA NAME\"] = primer_df.index\n",
    "    primer_df = primer_df[[\"GRNA NAME\", \"PRIMER_LEFT_0_SEQUENCE\", \"PRIMER_RIGHT_0_SEQUENCE\", \"PRIMER_PAIR_0_PRODUCT_SIZE\", \"PRIMER_LEFT_0\", \"PRIMER_RIGHT_0\", \"PRIMER_INTERNAL_0\", \"PRIMER_LEFT_0_TM\", \"PRIMER_RIGHT_0_TM\"]]\n",
    "    \n",
    "    no_primer_df = pd.DataFrame.from_dict(primer_not_designed, orient='index')\n",
    "    no_primer_df[\"GRNA NAME\"] = no_primer_df.index\n",
    "                                \n",
    "    return primer_df, no_primer_df"
   ]
  },
  {
   "cell_type": "code",
   "execution_count": null,
   "metadata": {},
   "outputs": [],
   "source": []
  },
  {
   "cell_type": "code",
   "execution_count": null,
   "metadata": {},
   "outputs": [],
   "source": []
  },
  {
   "cell_type": "code",
   "execution_count": null,
   "metadata": {},
   "outputs": [],
   "source": []
  },
  {
   "cell_type": "code",
   "execution_count": null,
   "metadata": {},
   "outputs": [],
   "source": []
  },
  {
   "cell_type": "code",
   "execution_count": null,
   "metadata": {},
   "outputs": [],
   "source": []
  },
  {
   "cell_type": "code",
   "execution_count": null,
   "metadata": {},
   "outputs": [],
   "source": []
  },
  {
   "cell_type": "code",
   "execution_count": null,
   "metadata": {},
   "outputs": [],
   "source": [
    "a, b = gpe.primer3_primer_around_gRNA(df_full_loc)"
   ]
  },
  {
   "cell_type": "code",
   "execution_count": null,
   "metadata": {},
   "outputs": [],
   "source": [
    "df.to_csv(\"Summary_results/genes_four_gRNA_primer_final.csv\")"
   ]
  },
  {
   "cell_type": "code",
   "execution_count": null,
   "metadata": {},
   "outputs": [],
   "source": [
    "len_unique_entries = df[\"GENE ID\"].value_counts().rename_axis('GENE ID').reset_index(name='counts')\n",
    "len(len_unique_entries[len_unique_entries[\"counts\"] != 4])"
   ]
  },
  {
   "cell_type": "code",
   "execution_count": null,
   "metadata": {},
   "outputs": [],
   "source": []
  },
  {
   "cell_type": "code",
   "execution_count": null,
   "metadata": {},
   "outputs": [],
   "source": [
    "df_full = pd.read_csv(\"Summary_results/genes_with_four_gRNAs_predicted.csv\")"
   ]
  },
  {
   "cell_type": "code",
   "execution_count": null,
   "metadata": {},
   "outputs": [],
   "source": [
    "#len_unique_entries_full = df[\"GENE ID\"].value_counts().rename_axis('GENE ID').reset_index(name='counts')\n",
    "#len(len_unique_entries_full[len_unique_entries_full[\"counts\"] != 4])"
   ]
  },
  {
   "cell_type": "code",
   "execution_count": null,
   "metadata": {},
   "outputs": [],
   "source": [
    "df_full = df_full.loc[:,~df_full.columns.str.match(\"Unnamed\")]"
   ]
  },
  {
   "cell_type": "code",
   "execution_count": null,
   "metadata": {},
   "outputs": [],
   "source": [
    "df_merged = df.merge(df_full, on=\"GRNA NAME\", how=\"inner\")"
   ]
  },
  {
   "cell_type": "code",
   "execution_count": null,
   "metadata": {},
   "outputs": [],
   "source": [
    "df_merged"
   ]
  },
  {
   "cell_type": "code",
   "execution_count": null,
   "metadata": {},
   "outputs": [],
   "source": [
    "df_merged.to_csv(\"all_genes_four_gRNAs_primer_\")"
   ]
  },
  {
   "cell_type": "code",
   "execution_count": null,
   "metadata": {},
   "outputs": [],
   "source": [
    "#new_df = pd.merge(df, df_full, on=\"GENE NAME\", how=\"inner\")"
   ]
  },
  {
   "cell_type": "code",
   "execution_count": null,
   "metadata": {},
   "outputs": [],
   "source": [
    "#new_df.to_csv(\"second_round_gRNA.csv\")"
   ]
  },
  {
   "cell_type": "code",
   "execution_count": null,
   "metadata": {},
   "outputs": [],
   "source": [
    "#new_df"
   ]
  },
  {
   "cell_type": "code",
   "execution_count": null,
   "metadata": {},
   "outputs": [],
   "source": [
    "#df.to_csv(\"genes_with_four_gRNAs_predicted.csv\")"
   ]
  },
  {
   "cell_type": "markdown",
   "metadata": {},
   "source": [
    "#### other possibly useful code snippets"
   ]
  },
  {
   "cell_type": "code",
   "execution_count": null,
   "metadata": {},
   "outputs": [],
   "source": [
    "#df= pd.read_csv(\"genes_with_less_than_four_gRNAs_predicted_initially_gRNA_primer_final.csv\")\n",
    "# check if all unique entries are len 4 - if not take those and re-run\n",
    "#df = pd.read_csv(\"AFDN_gRNA_primer_final.csv\")\n",
    "len_unique_entries = df[\"GENE ID\"].value_counts().rename_axis('GENE ID').reset_index(name='counts')"
   ]
  },
  {
   "cell_type": "code",
   "execution_count": null,
   "metadata": {},
   "outputs": [],
   "source": [
    "len(len_unique_entries[len_unique_entries[\"counts\"] != 4])"
   ]
  },
  {
   "cell_type": "code",
   "execution_count": null,
   "metadata": {},
   "outputs": [],
   "source": [
    "entries_length_below_four = len_unique_entries[len_unique_entries[\"counts\"] != 4]"
   ]
  },
  {
   "cell_type": "code",
   "execution_count": null,
   "metadata": {},
   "outputs": [],
   "source": [
    "entries_length_below_four"
   ]
  },
  {
   "cell_type": "code",
   "execution_count": null,
   "metadata": {},
   "outputs": [],
   "source": []
  },
  {
   "cell_type": "code",
   "execution_count": null,
   "metadata": {},
   "outputs": [],
   "source": [
    "genes_four_gRNA_lacking_primer = pd.merge(entries_length_below_four, df_full, on=\"GENE ID\", how=\"inner\")"
   ]
  },
  {
   "cell_type": "code",
   "execution_count": null,
   "metadata": {},
   "outputs": [],
   "source": [
    "genes_four_gRNA_lacking_primer"
   ]
  },
  {
   "cell_type": "code",
   "execution_count": null,
   "metadata": {},
   "outputs": [],
   "source": [
    "genes_four_gRNA_lacking_primer.to_csv(\"genes_four_gRNA_lacking_primer.csv\")"
   ]
  },
  {
   "cell_type": "code",
   "execution_count": null,
   "metadata": {},
   "outputs": [],
   "source": [
    "# check if entries in col null or empty\n",
    "#df[df['column_name'] == ''].index\n",
    "#pd.isna(df['column_name'])"
   ]
  },
  {
   "cell_type": "code",
   "execution_count": null,
   "metadata": {},
   "outputs": [],
   "source": [
    "#https://www.biostars.org/p/487055/\n",
    "from Bio import SeqIO\n",
    "for re in SeqIO.parse('CHIKV1-X-gb_AB455493.fasta', 'fasta'):\n",
    "    print('>{}\\t{}'.format(str(re.description).replace('|', '\\t'), re.seq))"
   ]
  },
  {
   "cell_type": "code",
   "execution_count": null,
   "metadata": {},
   "outputs": [],
   "source": [
    "# split_fasta.py (assumes you have biopython installed, e.g. with pip install biopython)\n",
    "# https://www.bramvandijk.com/blog/splitting-a-multi-fasta\n",
    "import sys, math\n",
    "from Bio import SeqIO\n",
    "\n",
    "def batch_iterator(iterator, batch_size):\n",
    "    \"\"\"\n",
    "    This is a generator function, and it returns lists of the\n",
    "    entries from the supplied iterator.  Each list will have\n",
    "    batch_size entries, although the final list may be shorter.\n",
    "    (derived from https://biopython.org/wiki/Split_large_file)\n",
    "    \"\"\"\n",
    "    entry = True  # Make sure we loop once\n",
    "    while entry:\n",
    "        batch = []\n",
    "        while len(batch) < batch_size:\n",
    "            try:\n",
    "                entry = iterator.__next__()\n",
    "            except StopIteration:\n",
    "                entry = None\n",
    "            if entry is None:\n",
    "                break # EOF = end of file\n",
    "            batch.append(entry)\n",
    "        if batch:\n",
    "            yield batch\n",
    "\n",
    "if(len(sys.argv) != 3):\n",
    "        sys.exit(\"usage: split_fasta.py MULTI_FASTA_FILE N_CHUNKS\")\n",
    "\n",
    "ffile=sys.argv[1]  # fasta file\n",
    "chunks=sys.argv[2] # number of chunks\n",
    "nseq = len([1 for line in open(ffile) if line.startswith(\">\")])\n",
    "chunksize=math.ceil(nseq/int(chunks))\n",
    "print(\"Splitting multi-fasta file of\", nseq, \"sequences into chunks of size\", chunksize)\n",
    "\n",
    "records = SeqIO.parse(open(ffile), \"fasta\")\n",
    "for i, batch in enumerate(batch_iterator(records, chunksize)):\n",
    "        filename = \"chunk_%i.fasta\" % (i + 1)\n",
    "        with open(filename, \"w\") as handle:\n",
    "                count = SeqIO.write(batch, handle, \"fasta\")\n",
    "        print(\"Wrote %i sequences to %s\" % (count, filename))\n",
    "\n",
    "sys.exit(\"Done.\")"
   ]
  }
 ],
 "metadata": {
  "kernelspec": {
   "display_name": "Python 3",
   "language": "python",
   "name": "python3"
  },
  "language_info": {
   "codemirror_mode": {
    "name": "ipython",
    "version": 3
   },
   "file_extension": ".py",
   "mimetype": "text/x-python",
   "name": "python",
   "nbconvert_exporter": "python",
   "pygments_lexer": "ipython3",
   "version": "3.7.6"
  }
 },
 "nbformat": 4,
 "nbformat_minor": 4
}
