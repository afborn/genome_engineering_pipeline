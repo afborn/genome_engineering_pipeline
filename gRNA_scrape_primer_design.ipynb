{
 "cells": [
  {
   "cell_type": "markdown",
   "metadata": {},
   "source": [
    "___________________________________________________________________________________________________________________________"
   ]
  },
  {
   "cell_type": "markdown",
   "metadata": {},
   "source": [
    "___________________________________________________________________________________________________________________________"
   ]
  },
  {
   "cell_type": "markdown",
   "metadata": {},
   "source": [
    "### Insert the correct project ID number as string"
   ]
  },
  {
   "cell_type": "code",
   "execution_count": null,
   "metadata": {},
   "outputs": [],
   "source": [
    "#provide project number ID as string (PO number in string format)\n",
    "project_id = 'project_test'"
   ]
  },
  {
   "cell_type": "markdown",
   "metadata": {},
   "source": [
    "___________________________________________________________________________________________________________________________"
   ]
  },
  {
   "cell_type": "markdown",
   "metadata": {},
   "source": [
    "___________________________________________________________________________________________________________________________"
   ]
  },
  {
   "cell_type": "code",
   "execution_count": null,
   "metadata": {},
   "outputs": [],
   "source": [
    "#import for retrieving predicted gRNAs\n",
    "from pybiomart import Server\n",
    "import pandas as pd\n",
    "import urllib.request\n",
    "import os\n",
    "# import nest_asyncio\n",
    "# nest_asyncio.apply()\n",
    "from selenium import webdriver\n",
    "import time\n",
    "pd.set_option('display.max_rows', None)\n",
    "pd.options.display.max_columns = None\n",
    "#imports for primer design\n",
    "from Bio.Seq import Seq\n",
    "import primer3\n",
    "import numpy as np\n",
    "import requests\n",
    "import sys\n",
    "import warnings\n",
    "warnings.filterwarnings('ignore')"
   ]
  },
  {
   "cell_type": "code",
   "execution_count": null,
   "metadata": {},
   "outputs": [],
   "source": [
    "# define functions\n",
    "def predict_gRNA(df_genes):\n",
    "    \n",
    "    #uses globally declared dataframe, declared prior to function calls\n",
    "    global gRNA_predicted\n",
    "    \n",
    "    for entry in range(len(df_genes)):\n",
    "        gene_ens_id = df_genes[\"GENE ID\"].iloc[entry]\n",
    "\n",
    "        #parse dataset for gene_id\n",
    "        data_gene = dataset.query(attributes=['ensembl_gene_id', 'external_gene_name'],\n",
    "                      filters={'link_ensembl_gene_id': gene_ens_id})\n",
    "\n",
    "        #if gene_id found and unique, construct Synthego url\n",
    "        if len(data_gene.index) == 1:\n",
    "            #print(data_gene)\n",
    "            gene_id = data_gene.iat[0,0]\n",
    "            gene_symbol = data_gene.iat[0,1]\n",
    "            url = 'https://design.synthego.com/#/design/results?genome=homo_sapiens_gencode_26_primary&nuclease=cas9&gene_id='+gene_id+'&symbol='+gene_symbol\n",
    "            # specify the url\n",
    "            urlpage = url\n",
    "            #print(urlpage)\n",
    "            #suppress opening Firefox browser window\n",
    "            os.environ['MOZ_HEADLESS'] = '1'\n",
    "            # run firefox webdriver from executable path of your choice\n",
    "            driver = webdriver.Firefox(executable_path = 'D:\\Alex\\geckodriver-v0.31.0-win64\\geckodriver.exe')\n",
    "            # get web page\n",
    "            driver.get(urlpage)\n",
    "            #30 seconds wait to have page fully loaded - might need to increase time\n",
    "            time.sleep(30)\n",
    "            results = driver.find_elements(\"xpath\", \"//*[@class='ng-binding']\")\n",
    "            #print('Number of results', len(results))\n",
    "            #Store predictions\n",
    "            gRNAs_synth = []\n",
    "            # loop over results\n",
    "            for result in results:\n",
    "                #print(result.text)\n",
    "                gRNAs_synth.append(result.text)\n",
    "            #extract minimal information for predicted gRNAs\n",
    "            gRNAs_synth_min = gRNAs_synth[3:9]\n",
    "            gRNAs_synth_min_df = pd.DataFrame(gRNAs_synth_min[2:], index =[gene_symbol+'-gRNA1', gene_symbol+'-gRNA2', gene_symbol+'-gRNA3', gene_symbol+'-gRNA4'],\n",
    "                                                 columns =['gRNA sequence'])\n",
    "            #add column(s) with ENSG number/gene name to df\n",
    "            gRNAs_synth_min_df['GENE ID'] = gene_id\n",
    "            gRNAs_synth_min_df['GENE NAME'] = gene_symbol\n",
    "            #print(gRNAs_synth_min_df)\n",
    "            gRNA_predicted = pd.concat([gRNA_predicted, gRNAs_synth_min_df])\n",
    "\n",
    "        else:\n",
    "            raise SystemExit(\"Stop right there - ambiguous gene name!\")   "
   ]
  },
  {
   "cell_type": "code",
   "execution_count": null,
   "metadata": {},
   "outputs": [],
   "source": [
    "#connect to Biomart Server\n",
    "server = Server(host='http://www.ensembl.org')\n",
    "\n",
    "# use #dataset.list_filters() to see available filters for list_filters method\n",
    "#dataset.list_filters()\n",
    "\n",
    "#generate dataset (homo sapiens)\n",
    "dataset = (server.marts['ENSEMBL_MART_ENSEMBL']\n",
    "                 .datasets['hsapiens_gene_ensembl'])"
   ]
  },
  {
   "cell_type": "code",
   "execution_count": null,
   "metadata": {},
   "outputs": [],
   "source": [
    "#read gene ID numbers from csv file - gene ID in form of ENSG00000141510\n",
    "df_genes_id = pd.read_csv(project_id + '.csv')\n",
    "df_genes_id.columns = df_genes_id.columns.str.upper()\n",
    "df_genes_id.head(10)"
   ]
  },
  {
   "cell_type": "code",
   "execution_count": null,
   "metadata": {},
   "outputs": [],
   "source": [
    "#loop through gene IDs, retrieve gene name (to double check with client data) \n",
    "#predict and scrape gRNAs\n",
    "# create df for storage of predicted gRNAs\n",
    "gRNA_predicted = pd.DataFrame(columns=['gRNA sequence','Gene ID', 'Gene Name'])"
   ]
  },
  {
   "cell_type": "code",
   "execution_count": null,
   "metadata": {},
   "outputs": [],
   "source": [
    "#call function to retrieve predicted gRNAs\n",
    "predict_gRNA(df_genes_id)"
   ]
  },
  {
   "cell_type": "code",
   "execution_count": null,
   "metadata": {},
   "outputs": [],
   "source": [
    "#check if all genes have predicted gRNAs - if not, run predicted_gRNA function until all genes have predicted gRNAs)\n",
    "while len(gRNA_predicted[gRNA_predicted['gRNA sequence'].isnull()]) > 0:\n",
    "    print(gRNA_predicted[gRNA_predicted['gRNA sequence'].isnull()])\n",
    "    nan_rows = gRNA_predicted[gRNA_predicted['gRNA sequence'].isnull()]\n",
    "    nan_rows = nan_rows.drop_duplicates(subset=None, keep='first', inplace=False, ignore_index='False')\n",
    "    nan_rows = nan_rows[['GENE ID', 'GENE NAME']]\n",
    "    nan_rows.columns = nan_rows.columns.str.upper()\n",
    "    predict_gRNA(nan_rows)\n",
    "    \n",
    "print(gRNA_predicted[gRNA_predicted['gRNA sequence'].isnull()])"
   ]
  },
  {
   "cell_type": "code",
   "execution_count": null,
   "metadata": {},
   "outputs": [],
   "source": [
    "#clean gRNA_predicted df\n",
    "gRNA_predicted = gRNA_predicted.drop(['Gene ID', 'Gene Name'], axis=1)\n",
    "#save predicted gRNAs as csv\n",
    "gRNA_predicted.to_csv(project_id + '_gRNA_predicted.csv') \n",
    "#sanity check df\n",
    "gRNA_predicted.head(10)"
   ]
  },
  {
   "cell_type": "code",
   "execution_count": null,
   "metadata": {},
   "outputs": [],
   "source": [
    "#replace U with T in gRNA sequences\n",
    "gRNA_predicted[\"gRNA_sequence_T\"] = gRNA_predicted[\"gRNA sequence\"].str.replace(\"U\",'T')\n",
    "#add column to indicate forward/reverse orientation of gRNA in relation to gene sequence\n",
    "gRNA_predicted[\"gRNA_sequence_T_forward_rel_to_gene\"] = gRNA_predicted[\"gRNA_sequence_T\"]\n",
    "\n",
    "#sanity check the dataframe\n",
    "gRNA_predicted.head(10)"
   ]
  },
  {
   "cell_type": "code",
   "execution_count": null,
   "metadata": {},
   "outputs": [],
   "source": [
    "#REST API python3 Ensembl\n",
    "server = \"https://rest.ensembl.org\"\n",
    "#initiate dict to store gene sequences for all genes in gRNA_predicted\n",
    "gene_sequences = {}\n",
    "\n",
    "# get unique gene IDs from gRNA_predicted\n",
    "unique_gene_IDs = gRNA_predicted['GENE ID'].unique()\n",
    "\n",
    "for entry in unique_gene_IDs:\n",
    "    ext = \"/sequence/id/\" + entry +\"?\"\n",
    "    # retrieve plain text gene sequence\n",
    "    r = requests.get(server+ext, headers={ \"Content-Type\" : \"text/plain\"})\n",
    "    # sanity check object r\n",
    "    if not r.ok:\n",
    "        r.raise_for_status()\n",
    "        sys.exit()\n",
    "    gene_sequences[entry] = r.text \n",
    "#pd.DataFrame.from_dict(gene_sequences, orient='index')"
   ]
  },
  {
   "cell_type": "code",
   "execution_count": null,
   "metadata": {},
   "outputs": [],
   "source": [
    "#sanity check for orientation and existence of gRNA_sequence_T in gene sequences \n",
    "for_rev_orientation_gRNA = []\n",
    "\n",
    "#using .find to match gRNA sequence_T to gene sequence - if not found output will be -1.\n",
    "for row in range(len(gRNA_predicted)):\n",
    "        #get key from gRNA_predicted to retrieve value from gene_sequences dict\n",
    "        key = gRNA_predicted[\"GENE ID\"].iloc[row]\n",
    "        value = gene_sequences[key]\n",
    "        orientation = value.find(gRNA_predicted[\"gRNA_sequence_T\"].iloc[row])\n",
    "        for_rev_orientation_gRNA.append(orientation)\n",
    "print(for_rev_orientation_gRNA)"
   ]
  },
  {
   "cell_type": "code",
   "execution_count": null,
   "metadata": {},
   "outputs": [],
   "source": [
    "gRNA_predicted['gRNA reverse (-1 = True)'] = for_rev_orientation_gRNA\n",
    "#gRNA_predicted"
   ]
  },
  {
   "cell_type": "code",
   "execution_count": null,
   "metadata": {},
   "outputs": [],
   "source": [
    "#In case of output -1 in for_rev_orientation_gRNA use reverse complement gRNA to search for match\n",
    "for entry in range(len(gRNA_predicted)):\n",
    "    if gRNA_predicted.iat[entry, 5] == -1:\n",
    "        gRNA_predicted[\"gRNA_sequence_T_forward_rel_to_gene\"].iloc[entry] = Seq(gRNA_predicted[\"gRNA_sequence_T\"].iloc[entry]).reverse_complement()\n",
    "        gRNA_predicted[\"gRNA_sequence_T_forward_rel_to_gene\"].iloc[entry] = str(gRNA_predicted[\"gRNA_sequence_T_forward_rel_to_gene\"].iloc[entry])\n"
   ]
  },
  {
   "cell_type": "code",
   "execution_count": null,
   "metadata": {},
   "outputs": [],
   "source": [
    "#sanity check for orientation and existence of gRNA_sequence_T in gene sequences \n",
    "for_orientation_gRNA = []\n",
    "\n",
    "#using .find to match gRNA sequence_T to gene sequence - if not found output will be -1.\n",
    "#In case of output -1 use reverse complement gRNA to search for match\n",
    "for row in range(len(gRNA_predicted)):\n",
    "        #get key from gRNA_predicted to retrieve value from gene_sequences dict\n",
    "        key = gRNA_predicted[\"GENE ID\"].iloc[row]\n",
    "        value = gene_sequences[key]\n",
    "        orientation = value.find(gRNA_predicted[\"gRNA_sequence_T_forward_rel_to_gene\"].iloc[row])\n",
    "        for_orientation_gRNA.append(orientation)\n",
    "print(for_orientation_gRNA)"
   ]
  },
  {
   "cell_type": "code",
   "execution_count": null,
   "metadata": {},
   "outputs": [],
   "source": [
    "gRNA_predicted[\"Forward position gRNA\"] = for_orientation_gRNA"
   ]
  },
  {
   "cell_type": "code",
   "execution_count": null,
   "metadata": {},
   "outputs": [],
   "source": [
    "#Extract gRNA flanking sequences ~250 nt for primer design\n",
    "#dict to hold sequences\n",
    "sequences_for_primer_design = []\n",
    "\n",
    "for row in range(len(gRNA_predicted)):\n",
    "    beginning = gRNA_predicted['Forward position gRNA'].iloc[row] - 250\n",
    "    end = gRNA_predicted['Forward position gRNA'].iloc[row] + 250\n",
    "    key = gRNA_predicted[\"GENE ID\"].iloc[row]\n",
    "    value = gene_sequences[key]\n",
    "    seq_slice = value[beginning:end]\n",
    "    sequences_for_primer_design.append(seq_slice)\n",
    "#sanity check dict\n",
    "#sequences_for_primer_design"
   ]
  },
  {
   "cell_type": "code",
   "execution_count": null,
   "metadata": {},
   "outputs": [],
   "source": [
    "gRNA_predicted['Seq for primer design'] = sequences_for_primer_design\n",
    "gRNA_predicted.head(10)"
   ]
  },
  {
   "cell_type": "code",
   "execution_count": null,
   "metadata": {},
   "outputs": [],
   "source": [
    "#use index to make column named guideRNA name\n",
    "gRNA_predicted['gRNA name'] = gRNA_predicted.index"
   ]
  },
  {
   "cell_type": "code",
   "execution_count": null,
   "metadata": {},
   "outputs": [],
   "source": [
    "primer_designed = {}\n",
    "for entry in range(len(gRNA_predicted)):\n",
    "    seq_dict = {\n",
    "        'SEQUENCE_ID': gRNA_predicted['gRNA name'].iloc[entry],\n",
    "        'SEQUENCE_TEMPLATE': gRNA_predicted['Seq for primer design'].iloc[entry],\n",
    "    }\n",
    "    primer_designed[gRNA_predicted['gRNA name'].iloc[entry]] = primer3.designPrimers(seq_dict,    \n",
    "        {\n",
    "            'PRIMER_OPT_SIZE': 20,\n",
    "            'PRIMER_PICK_INTERNAL_OLIGO': 1,\n",
    "            'PRIMER_INTERNAL_MAX_SELF_END': 8,\n",
    "            'PRIMER_MIN_SIZE': 18,\n",
    "            'PRIMER_MAX_SIZE': 25,\n",
    "            'PRIMER_OPT_TM': 60.0,\n",
    "            'PRIMER_MIN_TM': 57.0,\n",
    "            'PRIMER_MAX_TM': 63.0,\n",
    "            'PRIMER_MIN_GC': 20.0,\n",
    "            'PRIMER_MAX_GC': 80.0,\n",
    "            'PRIMER_MAX_POLY_X': 100,\n",
    "            'PRIMER_INTERNAL_MAX_POLY_X': 100,\n",
    "            'PRIMER_SALT_MONOVALENT': 50.0,\n",
    "            'PRIMER_DNA_CONC': 50.0,\n",
    "            'PRIMER_MAX_NS_ACCEPTED': 0,\n",
    "            'PRIMER_MAX_SELF_ANY': 12,\n",
    "            'PRIMER_MAX_SELF_END': 8,\n",
    "            'PRIMER_PAIR_MAX_COMPL_ANY': 12,\n",
    "            'PRIMER_PAIR_MAX_COMPL_END': 8,\n",
    "            'PRIMER_PRODUCT_SIZE_RANGE': [[375, 500]],\n",
    "        })"
   ]
  },
  {
   "cell_type": "code",
   "execution_count": null,
   "metadata": {},
   "outputs": [],
   "source": [
    "primer_df = pd.DataFrame.from_dict(primer_designed, orient='index')\n",
    "primer_df = primer_df[[\"PRIMER_LEFT_0_SEQUENCE\", \"PRIMER_RIGHT_0_SEQUENCE\", \"PRIMER_PAIR_0_PRODUCT_SIZE\", \"PRIMER_LEFT_0\", \"PRIMER_RIGHT_0\", \"PRIMER_INTERNAL_0\", \"PRIMER_LEFT_0_TM\", \"PRIMER_RIGHT_0_TM\"]]\n",
    "primer_df.head(10)"
   ]
  },
  {
   "cell_type": "code",
   "execution_count": null,
   "metadata": {},
   "outputs": [],
   "source": [
    "gRNA_primer_df = gRNA_predicted.join(primer_df)\n",
    "gRNA_primer_df = gRNA_primer_df.drop(columns=[\"gRNA name\", \"gRNA reverse (-1 = True)\"])\n",
    "gRNA_primer_df_wo_seq = gRNA_primer_df.drop(columns=[\"Seq for primer design\"])\n",
    "gRNA_primer_df_wo_seq.head(10)"
   ]
  },
  {
   "cell_type": "code",
   "execution_count": null,
   "metadata": {},
   "outputs": [],
   "source": [
    "gRNA_primer_df_wo_seq.to_csv(project_id + '_gRNA_primer.csv')"
   ]
  }
 ],
 "metadata": {
  "kernelspec": {
   "display_name": "Python 3",
   "language": "python",
   "name": "python3"
  },
  "language_info": {
   "codemirror_mode": {
    "name": "ipython",
    "version": 3
   },
   "file_extension": ".py",
   "mimetype": "text/x-python",
   "name": "python",
   "nbconvert_exporter": "python",
   "pygments_lexer": "ipython3",
   "version": "3.8.5"
  }
 },
 "nbformat": 4,
 "nbformat_minor": 5
}
