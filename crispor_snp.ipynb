{
 "cells": [
  {
   "cell_type": "code",
   "execution_count": null,
   "metadata": {},
   "outputs": [],
   "source": [
    "#utilizes geckodriver and Firefox\n",
    "from selenium import webdriver\n",
    "from selenium.webdriver.common.keys import Keys\n",
    "from selenium.webdriver.common.by import By\n",
    "import time\n",
    "#set geckodriver.exe path\n",
    "path_to_gecko = 'D:\\geckodriver\\geckodriver.exe'\n",
    "driver = webdriver.Firefox(executable_path = path_to_gecko)\n",
    "#Launch url\n",
    "url = \"http://crispor.tefor.net/\"\n",
    "driver.get(url)\n",
    "#short delay wait to have page fully loaded - might need to increase time\n",
    "time.sleep(0.5)\n",
    "#send input -https://medium.com/@ayanchowdhury00/web-scrapping-on-firefox-browser-using-selenium-in-python-edcf678a1dea\n",
    "driver.find_element(By.NAME, 'name').send_keys('hi, this is a test')\n",
    "#send keyboard input\n",
    "#l.send_keys(Keys.RETURN)\n",
    "time.sleep(0.5)\n",
    "driver.find_element(\"xpath\", \"//*[contains(text(), 'Clear Box')]\").click()\n",
    "#driver.find_element_by_xpath(\"//button[contains(text(),'Hide this message')]\").click()\n",
    "time.sleep(0.5)\n",
    "driver.find_element(By.NAME, 'seq').send_keys('atttccttttgtcctatttcagacacaaaaagatatatacctccctaatctatgtatatatattgatatctatctatatctgtctagccagctatctagcTAGCTAGCTAGCTAGCTGCTAtaatctagtagaattcccagagggcttttaagaagaggatatacaaattcatccattcatttattcaacaaagatttattgagagcctactatgtggcag')\n",
    "time.sleep(2)\n",
    "driver.find_element(By.NAME, 'submit').click()"
   ]
  },
  {
   "cell_type": "code",
   "execution_count": null,
   "metadata": {},
   "outputs": [],
   "source": []
  }
 ],
 "metadata": {
  "kernelspec": {
   "display_name": "Python 3",
   "language": "python",
   "name": "python3"
  },
  "language_info": {
   "codemirror_mode": {
    "name": "ipython",
    "version": 3
   },
   "file_extension": ".py",
   "mimetype": "text/x-python",
   "name": "python",
   "nbconvert_exporter": "python",
   "pygments_lexer": "ipython3",
   "version": "3.7.6"
  }
 },
 "nbformat": 4,
 "nbformat_minor": 4
}
